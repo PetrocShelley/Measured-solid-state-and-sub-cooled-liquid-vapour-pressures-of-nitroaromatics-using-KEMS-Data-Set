{
 "cells": [
  {
   "cell_type": "code",
   "execution_count": 6,
   "metadata": {
    "scrolled": true
   },
   "outputs": [
    {
     "name": "stdout",
     "output_type": "stream",
     "text": [
      "pressure at 25C: 0.012433036797159949\n",
      "pressure at 30C: 0.02504017723205285\n",
      "pressure at 35C: 0.05379293735298896\n",
      "pressure at 40C: 0.10113724537613712\n",
      "pressure at 45C: 0.1616641909664801\n",
      "pressure at 50C: 0.2194614217008017\n",
      "pressure at 55C: 0.3055777631530763\n"
     ]
    },
    {
     "name": "stderr",
     "output_type": "stream",
     "text": [
      "C:\\Users\\mbdxkps3\\AppData\\Local\\Continuum\\anaconda3\\lib\\site-packages\\ipykernel_launcher.py:59: FutureWarning: `rcond` parameter will change to the default of machine precision times ``max(M, N)`` where M and N are the input matrix dimensions.\n",
      "To use the future default and silence this warning we advise to pass `rcond=None`, to keep using the old, explicitly pass `rcond=-1`.\n"
     ]
    },
    {
     "data": {
      "image/png": "[encoded data removed]",
      "text/plain": [
       "<Figure size 432x288 with 1 Axes>"
      ]
     },
     "metadata": {
      "needs_background": "light"
     },
     "output_type": "display_data"
    },
    {
     "name": "stdout",
     "output_type": "stream",
     "text": [
      "gradient: -10552.653108548651\n",
      "intercept 31.20431811974367\n",
      "r-squared: 0.978722910947415\n",
      "delHsub: 87.73475794447349\n",
      "delSsub: 259.4327008475489\n",
      "P298: 0.01488696184841233\n"
     ]
    }
   ],
   "source": [
    "##########################################################################################\n",
    "#                                                                                        #\n",
    "#    Script for calculating the solid state saturation vapour pressure at 298 K along    #\n",
    "#    with the enthalpy and entropy of sublimation.                                       #\n",
    "#    A generic version of this script can be found in the folder KEMS_python_scripts     #\n",
    "#                                                                                        #\n",
    "#    All Rights Reserved.                                                                #\n",
    "#    This file is from the Measured-solid-state-and-sub-cooled-liquid-vapour-pressures   #\n",
    "#    -of-nitroaromatics-using-KEMS-Data-Set                                              #\n",
    "#                                                                                        #\n",
    "#    This is an open source data set: you can redistribute it and/or modify it under     #\n",
    "#    the terms of the GNU General Public License as published by the Free Software       #\n",
    "#    Foundation, either version 3 of the License, or (at your option) any later          #\n",
    "#    version.                                                                            #\n",
    "#                                                                                        #\n",
    "#    Measured-solid-state-and-sub-cooled-liquid-vapour-pressures-of-nitroaromatics-using #\n",
    "#    -KEMS-Data-Set is distributed in the hope that it will be useful, but WITHOUT       #\n",
    "#    ANY WARRANTY; without even the implied warranty of MERCHANTABILITY or FITNESS       #\n",
    "#    FOR A PARTICULAR PURPOSE.  See the GNU General Public License for more              #\n",
    "#    details.                                                                            #\n",
    "#                                                                                        #\n",
    "#    You should have received a copy of the GNU General Public License along with        #\n",
    "#    this data set.  If not, see <http://www.gnu.org/licenses/>.                         #\n",
    "#                                                                                        #\n",
    "##########################################################################################\n",
    "\n",
    "import numpy as np\n",
    "import matplotlib.pyplot as plt\n",
    "import scipy.stats # Import the required packages\n",
    "\n",
    "def VP_function (R, B_R, S, B_S, T, ICSR, ICSS): # function to calculate pressure of sample at a given temperature\n",
    "    MZ = R[:,0]                                  # mass charge ratio \n",
    "    RIC = R[:,1]                                 # reference ion current\n",
    "    B_RIC = B_R[:,1]                               # background reading of the reference ion current\n",
    "    CRIC = RIC - B_RIC                           # corrected reference ion current\n",
    "    INT = np.trapz(CRIC,MZ)                      # integral of the reference ion current\n",
    "    PR = np.exp(-8992.8/T+27.38)               # pressure of reference at given temperature. NOTE:numbers from Bristol EDB from Krieger 2017 as it best matched the VP stated in Krieger 2018\n",
    "    CF = PR/(INT/ICSR)                           # correction factor\n",
    "    SIC = S[:,1]                                 # sample ion current\n",
    "    B_SIC = B_S[:,1]                               # background reading of the sample ion current\n",
    "    CSIC = SIC-B_SIC                             # corrected sample ion current\n",
    "    SINT = np.trapz(CSIC,MZ)                     # integral of ther sample ion current\n",
    "    PS = CF*(SINT/ICSS)                          # pressure of sample\n",
    "    return PS\n",
    "\n",
    "# R is reference run using the np.loadtxt to read in and skiprows to start at m/z41\n",
    "# B_R is the background reading for R\n",
    "# S is the sample run, B_S is the background of the sample\n",
    "# T is the temperature of the run\n",
    "# ICSR and ICSS are the ionisation cross sections of the reference and the sample respectively\n",
    "\n",
    "T1 = 298 # temperature of run 1 \n",
    "T2 = 303 # temperature of run 2 ect...\n",
    "T3 = 308\n",
    "T4 = 313\n",
    "T5 = 318\n",
    "T6 = 323\n",
    "T7 = 328\n",
    "\n",
    "\n",
    "PS25 = VP_function(np.loadtxt(\"peg-3_25c.asc\", skiprows=2581), np.loadtxt(\"peg-3_gateopen.asc\", skiprows=2581), np.loadtxt(\"3-methyl-2-nitrophenol_25c.asc\", skiprows=2581), np.loadtxt(\"3-methyl-2-nitrophenol_gateopen.asc\", skiprows=2581), T1, 27.76892, 26.06605)\n",
    "PS30 = VP_function(np.loadtxt(\"peg-3_30c.asc\", skiprows=2581), np.loadtxt(\"peg-3_gateopen.asc\", skiprows=2581), np.loadtxt(\"3-methyl-2-nitrophenol_30c.asc\", skiprows=2581), np.loadtxt(\"3-methyl-2-nitrophenol_gateopen.asc\", skiprows=2581), T2, 27.76892, 26.06605)\n",
    "PS35 = VP_function(np.loadtxt(\"peg-3_35c.asc\", skiprows=2581), np.loadtxt(\"peg-3_gateopen.asc\", skiprows=2581), np.loadtxt(\"3-methyl-2-nitrophenol_35c.asc\", skiprows=2581), np.loadtxt(\"3-methyl-2-nitrophenol_gateopen.asc\", skiprows=2581), T3, 27.76892, 26.06605)\n",
    "PS40 = VP_function(np.loadtxt(\"peg-3_40c.asc\", skiprows=2581), np.loadtxt(\"peg-3_gateopen.asc\", skiprows=2581), np.loadtxt(\"3-methyl-2-nitrophenol_40c.asc\", skiprows=2581), np.loadtxt(\"3-methyl-2-nitrophenol_gateopen.asc\", skiprows=2581), T4, 27.76892, 26.06605)\n",
    "PS45 = VP_function(np.loadtxt(\"peg-3_45c.asc\", skiprows=2581), np.loadtxt(\"peg-3_gateopen.asc\", skiprows=2581), np.loadtxt(\"3-methyl-2-nitrophenol_45c.asc\", skiprows=2581), np.loadtxt(\"3-methyl-2-nitrophenol_gateopen.asc\", skiprows=2581), T5, 27.76892, 26.06605)\n",
    "PS50 = VP_function(np.loadtxt(\"peg-3_50c.asc\", skiprows=2581), np.loadtxt(\"peg-3_gateopen.asc\", skiprows=2581), np.loadtxt(\"3-methyl-2-nitrophenol_50c.asc\", skiprows=2581), np.loadtxt(\"3-methyl-2-nitrophenol_gateopen.asc\", skiprows=2581), T6, 27.76892, 26.06605)\n",
    "PS55 = VP_function(np.loadtxt(\"peg-3_55c.asc\", skiprows=2581), np.loadtxt(\"peg-3_gateopen.asc\", skiprows=2581), np.loadtxt(\"3-methyl-2-nitrophenol_55c.asc\", skiprows=2581), np.loadtxt(\"3-methyl-2-nitrophenol_gateopen.asc\", skiprows=2581), T7, 27.76892, 26.06605)\n",
    "# PS25 is pressure of sample at 25C using the VP_function function\n",
    "\n",
    "print('pressure at 25C:', PS25) # prints the pressure at 25C\n",
    "print('pressure at 30C:', PS30) # prints the pressure at 30C ect...\n",
    "print('pressure at 35C:', PS35)\n",
    "print('pressure at 40C:', PS40)\n",
    "print('pressure at 45C:', PS45)\n",
    "print('pressure at 50C:', PS50)\n",
    "print('pressure at 55C:', PS55)\n",
    "\n",
    "X =[1/T1, 1/T2, 1/T3, 1/T4, 1/T5, 1/T6, 1/T7] # creates vector of one over temperature\n",
    "Y=[np.log(PS25), np.log(PS30), np.log(PS35), np.log(PS40), np.log(PS45), np.log(PS50), np.log(PS55)] # creates vector of the natural log of the pressure\n",
    "slope, intercept, r_value, P_value, std_err = scipy.stats.linregress(X,Y) # gives slope, intercept, correlation coefficient, P value for statistical tests and standard error of the regression\n",
    "\n",
    "x = np.array([1/T1, 1/T2, 1/T3, 1/T4, 1/T5, 1/T6, 1/T7]) # creates numpy array of one over temperature\n",
    "y = np.array([np.log(PS25), np.log(PS30), np.log(PS35), np.log(PS40), np.log(PS45), np.log(PS50), np.log(PS55)]) # creates numpy array of the natural log of the pressure\n",
    "A = np.vstack([x, np.ones(len(x))]).T\n",
    "m, c = np.linalg.lstsq(A, y)[0] # m = gradient c =intercept\n",
    "plt.plot(x, y, 'o') # plots scatter plot of 1/T vs ln(P)\n",
    "plt.plot(x, m*x + c, 'r') # plots linear regression line \n",
    "plt.xlabel('1/T')\n",
    "plt.ylabel('ln(P)')\n",
    "plt.show() # gives graph with original points and linear regression line\n",
    "\n",
    "print('gradient:', m) \n",
    "print('intercept', c)\n",
    "print('r-squared:', r_value*r_value)\n",
    "\n",
    "R =  8.314 # ideal gas constant\n",
    "delHsub = R/1000*-m # calculate sublimation enthalpy\n",
    "delSsub = R*c # calculate sublimation entropy\n",
    "P298 = np.exp(-delHsub*1000/(R*298)+delSsub/R) # calculate P298 of sample\n",
    "\n",
    "print('delHsub:', delHsub)\n",
    "print('delSsub:', delSsub)\n",
    "print('P298:', P298)"
   ]
  },
  {
   "cell_type": "code",
   "execution_count": null,
   "metadata": {},
   "outputs": [],
   "source": []
  }
 ],
 "metadata": {
  "kernelspec": {
   "display_name": "Python 3",
   "language": "python",
   "name": "python3"
  },
  "language_info": {
   "codemirror_mode": {
    "name": "ipython",
    "version": 3
   },
   "file_extension": ".py",
   "mimetype": "text/x-python",
   "name": "python",
   "nbconvert_exporter": "python",
   "pygments_lexer": "ipython3",
   "version": "3.7.4"
  }
 },
 "nbformat": 4,
 "nbformat_minor": 2
}
