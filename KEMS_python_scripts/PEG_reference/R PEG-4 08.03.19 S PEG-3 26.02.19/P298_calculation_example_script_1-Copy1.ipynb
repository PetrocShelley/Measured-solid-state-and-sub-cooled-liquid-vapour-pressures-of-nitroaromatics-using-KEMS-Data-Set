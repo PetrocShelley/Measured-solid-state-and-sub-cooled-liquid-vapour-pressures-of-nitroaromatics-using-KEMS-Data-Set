{
 "cells": [
  {
   "cell_type": "code",
   "execution_count": 2,
   "metadata": {
    "scrolled": true
   },
   "outputs": [
    {
     "name": "stdout",
     "output_type": "stream",
     "text": [
      "pressure at 25C: 0.04017072261877231\n",
      "pressure at 30C: 0.06835226716963887\n",
      "pressure at 35C: 0.0920831074617954\n",
      "pressure at 40C: 0.1207019981504793\n",
      "pressure at 45C: 0.16648084210388095\n",
      "pressure at 50C: 0.25828191688134705\n",
      "pressure at 55C: 0.36030361884683765\n"
     ]
    },
    {
     "name": "stderr",
     "output_type": "stream",
     "text": [
      "C:\\Users\\mbdxkps3\\AppData\\Local\\Continuum\\anaconda3\\lib\\site-packages\\ipykernel_launcher.py:59: FutureWarning: `rcond` parameter will change to the default of machine precision times ``max(M, N)`` where M and N are the input matrix dimensions.\n",
      "To use the future default and silence this warning we advise to pass `rcond=None`, to keep using the old, explicitly pass `rcond=-1`.\n"
     ]
    },
    {
     "data": {
      "image/png": "[encoded data removed]",
      "text/plain": [
       "<Figure size 432x288 with 1 Axes>"
      ]
     },
     "metadata": {
      "needs_background": "light"
     },
     "output_type": "display_data"
    },
    {
     "name": "stdout",
     "output_type": "stream",
     "text": [
      "gradient: -6865.290954766599\n",
      "intercept 19.875611454212017\n",
      "r-squared: 0.9928930796427813\n",
      "delHsub: 57.0780289979295\n",
      "delSsub: 165.2458336303187\n",
      "P298: 0.04232921981052737\n"
     ]
    }
   ],
   "source": [
    "##########################################################################################\n",
    "#                                                                                        #\n",
    "#    Script for calculating the solid state saturation vapour pressure at 298 K along    #\n",
    "#    with the enthalpy and entropy of sublimation.                                       #\n",
    "#    A generic version of this script can be found in the folder KEMS_python_scripts     #\n",
    "#                                                                                        #\n",
    "#    All Rights Reserved.                                                                #\n",
    "#    This file is from the Measured-solid-state-and-sub-cooled-liquid-vapour-pressures   #\n",
    "#    -of-nitroaromatics-using-KEMS-Data-Set                                              #\n",
    "#                                                                                        #\n",
    "#    This is an open source data set: you can redistribute it and/or modify it under     #\n",
    "#    the terms of the GNU General Public License as published by the Free Software       #\n",
    "#    Foundation, either version 3 of the License, or (at your option) any later          #\n",
    "#    version.                                                                            #\n",
    "#                                                                                        #\n",
    "#    Measured-solid-state-and-sub-cooled-liquid-vapour-pressures-of-nitroaromatics-using #\n",
    "#    -KEMS-Data-Set is distributed in the hope that it will be useful, but WITHOUT       #\n",
    "#    ANY WARRANTY; without even the implied warranty of MERCHANTABILITY or FITNESS       #\n",
    "#    FOR A PARTICULAR PURPOSE.  See the GNU General Public License for more              #\n",
    "#    details.                                                                            #\n",
    "#                                                                                        #\n",
    "#    You should have received a copy of the GNU General Public License along with        #\n",
    "#    this data set.  If not, see <http://www.gnu.org/licenses/>.                         #\n",
    "#                                                                                        #\n",
    "##########################################################################################\n",
    "\n",
    "import numpy as np\n",
    "import matplotlib.pyplot as plt\n",
    "import scipy.stats # Import the required packages\n",
    "\n",
    "def VP_function (R, B_R, S, B_S, T, ICSR, ICSS): # function to calculate pressure of sample at a given temperature\n",
    "    MZ = R[:,0]                                  # mass charge ratio \n",
    "    RIC = R[:,1]                                 # reference ion current\n",
    "    B_RIC = B_R[:,1]                               # background reading of the reference ion current\n",
    "    CRIC = RIC - B_RIC                           # corrected reference ion current\n",
    "    INT = np.trapz(CRIC,MZ)                      # integral of the reference ion current\n",
    "    PR = np.exp(-8144.2/T+22.91)               # pressure of reference at given temperature. NOTE: -11058.97 and 29.54 are specific to malonic acid as a reference and will change depending on the reference used\n",
    "    CF = PR/(INT/ICSR)                           # correction factor\n",
    "    SIC = S[:,1]                                 # sample ion current\n",
    "    B_SIC = B_S[:,1]                               # background reading of the sample ion current\n",
    "    CSIC = SIC-B_SIC                             # corrected sample ion current\n",
    "    SINT = np.trapz(CSIC,MZ)                     # integral of ther sample ion current\n",
    "    PS = CF*(SINT/ICSS)                          # pressure of sample\n",
    "    return PS\n",
    "\n",
    "# R is reference run using the np.loadtxt to read in and skiprows to start at m/z41\n",
    "# B_R is the background reading for R\n",
    "# S is the sample run, B_S is the background of the sample\n",
    "# T is the temperature of the run\n",
    "# ICSR and ICSS are the ionisation cross sections of the reference and the sample respectively\n",
    "\n",
    "T1 = 298 # temperature of run 1 \n",
    "T2 = 303 # temperature of run 2 ect...\n",
    "T3 = 308\n",
    "T4 = 313\n",
    "T5 = 318\n",
    "T6 = 323\n",
    "T7 = 328\n",
    "\n",
    "\n",
    "PS25 = VP_function(np.loadtxt(\"peg-4_25c.asc\", skiprows=2581), np.loadtxt(\"peg-4_gateopen.asc\", skiprows=2581), np.loadtxt(\"peg-3_25c.asc\", skiprows=2581), np.loadtxt(\"peg-3_gateopen.asc\", skiprows=2581), T1, 36.17028, 27.76892)\n",
    "PS30 = VP_function(np.loadtxt(\"peg-4_30c.asc\", skiprows=2581), np.loadtxt(\"peg-4_gateopen.asc\", skiprows=2581), np.loadtxt(\"peg-3_30c.asc\", skiprows=2581), np.loadtxt(\"peg-3_gateopen.asc\", skiprows=2581), T2, 36.17028, 27.76892)\n",
    "PS35 = VP_function(np.loadtxt(\"peg-4_35c.asc\", skiprows=2581), np.loadtxt(\"peg-4_gateopen.asc\", skiprows=2581), np.loadtxt(\"peg-3_35c.asc\", skiprows=2581), np.loadtxt(\"peg-3_gateopen.asc\", skiprows=2581), T3, 36.17028, 27.76892)\n",
    "PS40 = VP_function(np.loadtxt(\"peg-4_40c.asc\", skiprows=2581), np.loadtxt(\"peg-4_gateopen.asc\", skiprows=2581), np.loadtxt(\"peg-3_40c.asc\", skiprows=2581), np.loadtxt(\"peg-3_gateopen.asc\", skiprows=2581), T4, 36.17028, 27.76892)\n",
    "PS45 = VP_function(np.loadtxt(\"peg-4_45c.asc\", skiprows=2581), np.loadtxt(\"peg-4_gateopen.asc\", skiprows=2581), np.loadtxt(\"peg-3_45c.asc\", skiprows=2581), np.loadtxt(\"peg-3_gateopen.asc\", skiprows=2581), T5, 36.17028, 27.76892)\n",
    "PS50 = VP_function(np.loadtxt(\"peg-4_50c.asc\", skiprows=2581), np.loadtxt(\"peg-4_gateopen.asc\", skiprows=2581), np.loadtxt(\"peg-3_50c.asc\", skiprows=2581), np.loadtxt(\"peg-3_gateopen.asc\", skiprows=2581), T6, 36.17028, 27.76892)\n",
    "PS55 = VP_function(np.loadtxt(\"peg-4_55c.asc\", skiprows=2581), np.loadtxt(\"peg-4_gateopen.asc\", skiprows=2581), np.loadtxt(\"peg-3_55c.asc\", skiprows=2581), np.loadtxt(\"peg-3_gateopen.asc\", skiprows=2581), T7, 36.17028, 27.76892)\n",
    "# PS25 is pressure of sample at 25C using the VP_function function\n",
    "\n",
    "print('pressure at 25C:', PS25) # prints the pressure at 25C\n",
    "print('pressure at 30C:', PS30) # prints the pressure at 30C ect...\n",
    "print('pressure at 35C:', PS35)\n",
    "print('pressure at 40C:', PS40)\n",
    "print('pressure at 45C:', PS45)\n",
    "print('pressure at 50C:', PS50)\n",
    "print('pressure at 55C:', PS55)\n",
    "\n",
    "X =[1/T1, 1/T2, 1/T3, 1/T4, 1/T5, 1/T6, 1/T7] # creates vector of one over temperature\n",
    "Y=[np.log(PS25), np.log(PS30), np.log(PS35), np.log(PS40), np.log(PS45), np.log(PS50), np.log(PS55)] # creates vector of the natural log of the pressure\n",
    "slope, intercept, r_value, P_value, std_err = scipy.stats.linregress(X,Y) # gives slope, intercept, correlation coefficient, P value for statistical tests and standard error of the regression\n",
    "\n",
    "x = np.array([1/T1, 1/T2, 1/T3, 1/T4, 1/T5, 1/T6, 1/T7]) # creates numpy array of one over temperature\n",
    "y = np.array([np.log(PS25), np.log(PS30), np.log(PS35), np.log(PS40), np.log(PS45), np.log(PS50), np.log(PS55)]) # creates numpy array of the natural log of the pressure\n",
    "A = np.vstack([x, np.ones(len(x))]).T\n",
    "m, c = np.linalg.lstsq(A, y)[0] # m = gradient c =intercept\n",
    "plt.plot(x, y, 'o') # plots scatter plot of 1/T vs ln(P)\n",
    "plt.plot(x, m*x + c, 'r') # plots linear regression line \n",
    "plt.xlabel('1/T')\n",
    "plt.ylabel('ln(P)')\n",
    "plt.show() # gives graph with original points and linear regression line\n",
    "\n",
    "print('gradient:', m) \n",
    "print('intercept', c)\n",
    "print('r-squared:', r_value*r_value)\n",
    "\n",
    "R =  8.314 # ideal gas constant\n",
    "delHsub = R/1000*-m # calculate sublimation enthalpy\n",
    "delSsub = R*c # calculate sublimation entropy\n",
    "P298 = np.exp(-delHsub*1000/(R*298)+delSsub/R) # calculate P298 of sample\n",
    "\n",
    "print('delHsub:', delHsub)\n",
    "print('delSsub:', delSsub)\n",
    "print('P298:', P298)"
   ]
  },
  {
   "cell_type": "code",
   "execution_count": null,
   "metadata": {},
   "outputs": [],
   "source": []
  }
 ],
 "metadata": {
  "kernelspec": {
   "display_name": "Python 3",
   "language": "python",
   "name": "python3"
  },
  "language_info": {
   "codemirror_mode": {
    "name": "ipython",
    "version": 3
   },
   "file_extension": ".py",
   "mimetype": "text/x-python",
   "name": "python",
   "nbconvert_exporter": "python",
   "pygments_lexer": "ipython3",
   "version": "3.7.4"
  }
 },
 "nbformat": 4,
 "nbformat_minor": 2
}
